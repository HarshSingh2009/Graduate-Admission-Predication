{
 "cells": [
  {
   "cell_type": "markdown",
   "metadata": {
    "id": "IOVkWG6x7vyJ"
   },
   "source": [
    "# Graduate Admission Prediction using Artificial Neural Networks"
   ]
  },
  {
   "cell_type": "code",
   "execution_count": 1,
   "metadata": {
    "id": "cUTVWN_M7kb5"
   },
   "outputs": [],
   "source": [
    "import numpy as np\n",
    "import matplotlib.pyplot as plt\n",
    "import pandas as pd"
   ]
  },
  {
   "cell_type": "code",
   "execution_count": 2,
   "metadata": {
    "colab": {
     "base_uri": "https://localhost:8080/",
     "height": 206
    },
    "id": "S2gS6ODp9DAu",
    "outputId": "17fff550-cb22-4286-b7dd-eeb0400489cc"
   },
   "outputs": [
    {
     "data": {
      "text/html": [
       "<div>\n",
       "<style scoped>\n",
       "    .dataframe tbody tr th:only-of-type {\n",
       "        vertical-align: middle;\n",
       "    }\n",
       "\n",
       "    .dataframe tbody tr th {\n",
       "        vertical-align: top;\n",
       "    }\n",
       "\n",
       "    .dataframe thead th {\n",
       "        text-align: right;\n",
       "    }\n",
       "</style>\n",
       "<table border=\"1\" class=\"dataframe\">\n",
       "  <thead>\n",
       "    <tr style=\"text-align: right;\">\n",
       "      <th></th>\n",
       "      <th>Serial No.</th>\n",
       "      <th>GRE Score</th>\n",
       "      <th>TOEFL Score</th>\n",
       "      <th>University Rating</th>\n",
       "      <th>SOP</th>\n",
       "      <th>LOR</th>\n",
       "      <th>CGPA</th>\n",
       "      <th>Research</th>\n",
       "      <th>Chance of Admit</th>\n",
       "    </tr>\n",
       "  </thead>\n",
       "  <tbody>\n",
       "    <tr>\n",
       "      <th>0</th>\n",
       "      <td>1</td>\n",
       "      <td>337</td>\n",
       "      <td>118</td>\n",
       "      <td>4</td>\n",
       "      <td>4.5</td>\n",
       "      <td>4.5</td>\n",
       "      <td>9.65</td>\n",
       "      <td>1</td>\n",
       "      <td>0.92</td>\n",
       "    </tr>\n",
       "    <tr>\n",
       "      <th>1</th>\n",
       "      <td>2</td>\n",
       "      <td>324</td>\n",
       "      <td>107</td>\n",
       "      <td>4</td>\n",
       "      <td>4.0</td>\n",
       "      <td>4.5</td>\n",
       "      <td>8.87</td>\n",
       "      <td>1</td>\n",
       "      <td>0.76</td>\n",
       "    </tr>\n",
       "    <tr>\n",
       "      <th>2</th>\n",
       "      <td>3</td>\n",
       "      <td>316</td>\n",
       "      <td>104</td>\n",
       "      <td>3</td>\n",
       "      <td>3.0</td>\n",
       "      <td>3.5</td>\n",
       "      <td>8.00</td>\n",
       "      <td>1</td>\n",
       "      <td>0.72</td>\n",
       "    </tr>\n",
       "    <tr>\n",
       "      <th>3</th>\n",
       "      <td>4</td>\n",
       "      <td>322</td>\n",
       "      <td>110</td>\n",
       "      <td>3</td>\n",
       "      <td>3.5</td>\n",
       "      <td>2.5</td>\n",
       "      <td>8.67</td>\n",
       "      <td>1</td>\n",
       "      <td>0.80</td>\n",
       "    </tr>\n",
       "    <tr>\n",
       "      <th>4</th>\n",
       "      <td>5</td>\n",
       "      <td>314</td>\n",
       "      <td>103</td>\n",
       "      <td>2</td>\n",
       "      <td>2.0</td>\n",
       "      <td>3.0</td>\n",
       "      <td>8.21</td>\n",
       "      <td>0</td>\n",
       "      <td>0.65</td>\n",
       "    </tr>\n",
       "  </tbody>\n",
       "</table>\n",
       "</div>"
      ],
      "text/plain": [
       "   Serial No.  GRE Score  TOEFL Score  University Rating  SOP  LOR   CGPA  \\\n",
       "0           1        337          118                  4  4.5   4.5  9.65   \n",
       "1           2        324          107                  4  4.0   4.5  8.87   \n",
       "2           3        316          104                  3  3.0   3.5  8.00   \n",
       "3           4        322          110                  3  3.5   2.5  8.67   \n",
       "4           5        314          103                  2  2.0   3.0  8.21   \n",
       "\n",
       "   Research  Chance of Admit   \n",
       "0         1              0.92  \n",
       "1         1              0.76  \n",
       "2         1              0.72  \n",
       "3         1              0.80  \n",
       "4         0              0.65  "
      ]
     },
     "execution_count": 2,
     "metadata": {},
     "output_type": "execute_result"
    }
   ],
   "source": [
    "df = pd.read_csv('Admission_Predict.csv')\n",
    "df.head()"
   ]
  },
  {
   "cell_type": "code",
   "execution_count": 3,
   "metadata": {
    "colab": {
     "base_uri": "https://localhost:8080/"
    },
    "id": "eSe2Fl_49LrD",
    "outputId": "14c1658b-4b83-49e3-abcf-600fc27024a2"
   },
   "outputs": [
    {
     "data": {
      "text/plain": [
       "(400, 9)"
      ]
     },
     "execution_count": 3,
     "metadata": {},
     "output_type": "execute_result"
    }
   ],
   "source": [
    "df.shape"
   ]
  },
  {
   "cell_type": "markdown",
   "metadata": {
    "id": "sgtxzvJI9mK8"
   },
   "source": [
    "## Data Preprocessing"
   ]
  },
  {
   "cell_type": "markdown",
   "metadata": {
    "id": "1KYMcxaU92sG"
   },
   "source": [
    "### Seeing for null or duplicated values"
   ]
  },
  {
   "cell_type": "code",
   "execution_count": 4,
   "metadata": {
    "colab": {
     "base_uri": "https://localhost:8080/"
    },
    "id": "GpPB9e0h9MeQ",
    "outputId": "5be28f2a-5ebb-4a31-f4d7-9a0f629752f5"
   },
   "outputs": [
    {
     "name": "stdout",
     "output_type": "stream",
     "text": [
      "0\n",
      "Serial No.           0\n",
      "GRE Score            0\n",
      "TOEFL Score          0\n",
      "University Rating    0\n",
      "SOP                  0\n",
      "LOR                  0\n",
      "CGPA                 0\n",
      "Research             0\n",
      "Chance of Admit      0\n",
      "dtype: int64\n"
     ]
    }
   ],
   "source": [
    "print(df.duplicated().sum()) # Duplicated values\n",
    "print(df.isnull().sum()) # Null values"
   ]
  },
  {
   "cell_type": "code",
   "execution_count": 5,
   "metadata": {
    "colab": {
     "base_uri": "https://localhost:8080/"
    },
    "id": "mIlyBb3C9a_6",
    "outputId": "fdfb89b0-7021-42a2-b289-c2e22e704763"
   },
   "outputs": [
    {
     "name": "stdout",
     "output_type": "stream",
     "text": [
      "<class 'pandas.core.frame.DataFrame'>\n",
      "RangeIndex: 400 entries, 0 to 399\n",
      "Data columns (total 9 columns):\n",
      " #   Column             Non-Null Count  Dtype  \n",
      "---  ------             --------------  -----  \n",
      " 0   Serial No.         400 non-null    int64  \n",
      " 1   GRE Score          400 non-null    int64  \n",
      " 2   TOEFL Score        400 non-null    int64  \n",
      " 3   University Rating  400 non-null    int64  \n",
      " 4   SOP                400 non-null    float64\n",
      " 5   LOR                400 non-null    float64\n",
      " 6   CGPA               400 non-null    float64\n",
      " 7   Research           400 non-null    int64  \n",
      " 8   Chance of Admit    400 non-null    float64\n",
      "dtypes: float64(4), int64(5)\n",
      "memory usage: 28.2 KB\n"
     ]
    }
   ],
   "source": [
    "df.info()"
   ]
  },
  {
   "cell_type": "markdown",
   "metadata": {
    "id": "en9IIUNz9yUr"
   },
   "source": [
    "### Dropping Non-Important columns"
   ]
  },
  {
   "cell_type": "code",
   "execution_count": 6,
   "metadata": {
    "id": "10tHF7Ic9kfv"
   },
   "outputs": [],
   "source": [
    "df = df.drop(columns=['Serial No.'])"
   ]
  },
  {
   "cell_type": "code",
   "execution_count": 7,
   "metadata": {
    "colab": {
     "base_uri": "https://localhost:8080/",
     "height": 206
    },
    "id": "DV4ndu8198DB",
    "outputId": "4278c141-a527-4f4c-d5da-60704c672479"
   },
   "outputs": [
    {
     "data": {
      "text/html": [
       "<div>\n",
       "<style scoped>\n",
       "    .dataframe tbody tr th:only-of-type {\n",
       "        vertical-align: middle;\n",
       "    }\n",
       "\n",
       "    .dataframe tbody tr th {\n",
       "        vertical-align: top;\n",
       "    }\n",
       "\n",
       "    .dataframe thead th {\n",
       "        text-align: right;\n",
       "    }\n",
       "</style>\n",
       "<table border=\"1\" class=\"dataframe\">\n",
       "  <thead>\n",
       "    <tr style=\"text-align: right;\">\n",
       "      <th></th>\n",
       "      <th>GRE Score</th>\n",
       "      <th>TOEFL Score</th>\n",
       "      <th>University Rating</th>\n",
       "      <th>SOP</th>\n",
       "      <th>LOR</th>\n",
       "      <th>CGPA</th>\n",
       "      <th>Research</th>\n",
       "      <th>Chance of Admit</th>\n",
       "    </tr>\n",
       "  </thead>\n",
       "  <tbody>\n",
       "    <tr>\n",
       "      <th>0</th>\n",
       "      <td>337</td>\n",
       "      <td>118</td>\n",
       "      <td>4</td>\n",
       "      <td>4.5</td>\n",
       "      <td>4.5</td>\n",
       "      <td>9.65</td>\n",
       "      <td>1</td>\n",
       "      <td>0.92</td>\n",
       "    </tr>\n",
       "    <tr>\n",
       "      <th>1</th>\n",
       "      <td>324</td>\n",
       "      <td>107</td>\n",
       "      <td>4</td>\n",
       "      <td>4.0</td>\n",
       "      <td>4.5</td>\n",
       "      <td>8.87</td>\n",
       "      <td>1</td>\n",
       "      <td>0.76</td>\n",
       "    </tr>\n",
       "    <tr>\n",
       "      <th>2</th>\n",
       "      <td>316</td>\n",
       "      <td>104</td>\n",
       "      <td>3</td>\n",
       "      <td>3.0</td>\n",
       "      <td>3.5</td>\n",
       "      <td>8.00</td>\n",
       "      <td>1</td>\n",
       "      <td>0.72</td>\n",
       "    </tr>\n",
       "    <tr>\n",
       "      <th>3</th>\n",
       "      <td>322</td>\n",
       "      <td>110</td>\n",
       "      <td>3</td>\n",
       "      <td>3.5</td>\n",
       "      <td>2.5</td>\n",
       "      <td>8.67</td>\n",
       "      <td>1</td>\n",
       "      <td>0.80</td>\n",
       "    </tr>\n",
       "    <tr>\n",
       "      <th>4</th>\n",
       "      <td>314</td>\n",
       "      <td>103</td>\n",
       "      <td>2</td>\n",
       "      <td>2.0</td>\n",
       "      <td>3.0</td>\n",
       "      <td>8.21</td>\n",
       "      <td>0</td>\n",
       "      <td>0.65</td>\n",
       "    </tr>\n",
       "  </tbody>\n",
       "</table>\n",
       "</div>"
      ],
      "text/plain": [
       "   GRE Score  TOEFL Score  University Rating  SOP  LOR   CGPA  Research  \\\n",
       "0        337          118                  4  4.5   4.5  9.65         1   \n",
       "1        324          107                  4  4.0   4.5  8.87         1   \n",
       "2        316          104                  3  3.0   3.5  8.00         1   \n",
       "3        322          110                  3  3.5   2.5  8.67         1   \n",
       "4        314          103                  2  2.0   3.0  8.21         0   \n",
       "\n",
       "   Chance of Admit   \n",
       "0              0.92  \n",
       "1              0.76  \n",
       "2              0.72  \n",
       "3              0.80  \n",
       "4              0.65  "
      ]
     },
     "execution_count": 7,
     "metadata": {},
     "output_type": "execute_result"
    }
   ],
   "source": [
    "df.head()"
   ]
  },
  {
   "cell_type": "markdown",
   "metadata": {
    "id": "SlTYi3Bb_Oaz"
   },
   "source": [
    "## Splitting dataset into training and testing dataset"
   ]
  },
  {
   "cell_type": "code",
   "execution_count": 8,
   "metadata": {
    "id": "QKpgkg-k_N9c"
   },
   "outputs": [],
   "source": [
    "X = df.iloc[:, :-1]\n",
    "y = df.iloc[:, -1]"
   ]
  },
  {
   "cell_type": "code",
   "execution_count": 9,
   "metadata": {
    "colab": {
     "base_uri": "https://localhost:8080/",
     "height": 424
    },
    "id": "ObWdDl8x_ekb",
    "outputId": "ca30b286-f3c0-42c5-ebe2-466fa75b00df"
   },
   "outputs": [
    {
     "data": {
      "text/html": [
       "<div>\n",
       "<style scoped>\n",
       "    .dataframe tbody tr th:only-of-type {\n",
       "        vertical-align: middle;\n",
       "    }\n",
       "\n",
       "    .dataframe tbody tr th {\n",
       "        vertical-align: top;\n",
       "    }\n",
       "\n",
       "    .dataframe thead th {\n",
       "        text-align: right;\n",
       "    }\n",
       "</style>\n",
       "<table border=\"1\" class=\"dataframe\">\n",
       "  <thead>\n",
       "    <tr style=\"text-align: right;\">\n",
       "      <th></th>\n",
       "      <th>GRE Score</th>\n",
       "      <th>TOEFL Score</th>\n",
       "      <th>University Rating</th>\n",
       "      <th>SOP</th>\n",
       "      <th>LOR</th>\n",
       "      <th>CGPA</th>\n",
       "      <th>Research</th>\n",
       "    </tr>\n",
       "  </thead>\n",
       "  <tbody>\n",
       "    <tr>\n",
       "      <th>0</th>\n",
       "      <td>337</td>\n",
       "      <td>118</td>\n",
       "      <td>4</td>\n",
       "      <td>4.5</td>\n",
       "      <td>4.5</td>\n",
       "      <td>9.65</td>\n",
       "      <td>1</td>\n",
       "    </tr>\n",
       "    <tr>\n",
       "      <th>1</th>\n",
       "      <td>324</td>\n",
       "      <td>107</td>\n",
       "      <td>4</td>\n",
       "      <td>4.0</td>\n",
       "      <td>4.5</td>\n",
       "      <td>8.87</td>\n",
       "      <td>1</td>\n",
       "    </tr>\n",
       "    <tr>\n",
       "      <th>2</th>\n",
       "      <td>316</td>\n",
       "      <td>104</td>\n",
       "      <td>3</td>\n",
       "      <td>3.0</td>\n",
       "      <td>3.5</td>\n",
       "      <td>8.00</td>\n",
       "      <td>1</td>\n",
       "    </tr>\n",
       "    <tr>\n",
       "      <th>3</th>\n",
       "      <td>322</td>\n",
       "      <td>110</td>\n",
       "      <td>3</td>\n",
       "      <td>3.5</td>\n",
       "      <td>2.5</td>\n",
       "      <td>8.67</td>\n",
       "      <td>1</td>\n",
       "    </tr>\n",
       "    <tr>\n",
       "      <th>4</th>\n",
       "      <td>314</td>\n",
       "      <td>103</td>\n",
       "      <td>2</td>\n",
       "      <td>2.0</td>\n",
       "      <td>3.0</td>\n",
       "      <td>8.21</td>\n",
       "      <td>0</td>\n",
       "    </tr>\n",
       "    <tr>\n",
       "      <th>...</th>\n",
       "      <td>...</td>\n",
       "      <td>...</td>\n",
       "      <td>...</td>\n",
       "      <td>...</td>\n",
       "      <td>...</td>\n",
       "      <td>...</td>\n",
       "      <td>...</td>\n",
       "    </tr>\n",
       "    <tr>\n",
       "      <th>395</th>\n",
       "      <td>324</td>\n",
       "      <td>110</td>\n",
       "      <td>3</td>\n",
       "      <td>3.5</td>\n",
       "      <td>3.5</td>\n",
       "      <td>9.04</td>\n",
       "      <td>1</td>\n",
       "    </tr>\n",
       "    <tr>\n",
       "      <th>396</th>\n",
       "      <td>325</td>\n",
       "      <td>107</td>\n",
       "      <td>3</td>\n",
       "      <td>3.0</td>\n",
       "      <td>3.5</td>\n",
       "      <td>9.11</td>\n",
       "      <td>1</td>\n",
       "    </tr>\n",
       "    <tr>\n",
       "      <th>397</th>\n",
       "      <td>330</td>\n",
       "      <td>116</td>\n",
       "      <td>4</td>\n",
       "      <td>5.0</td>\n",
       "      <td>4.5</td>\n",
       "      <td>9.45</td>\n",
       "      <td>1</td>\n",
       "    </tr>\n",
       "    <tr>\n",
       "      <th>398</th>\n",
       "      <td>312</td>\n",
       "      <td>103</td>\n",
       "      <td>3</td>\n",
       "      <td>3.5</td>\n",
       "      <td>4.0</td>\n",
       "      <td>8.78</td>\n",
       "      <td>0</td>\n",
       "    </tr>\n",
       "    <tr>\n",
       "      <th>399</th>\n",
       "      <td>333</td>\n",
       "      <td>117</td>\n",
       "      <td>4</td>\n",
       "      <td>5.0</td>\n",
       "      <td>4.0</td>\n",
       "      <td>9.66</td>\n",
       "      <td>1</td>\n",
       "    </tr>\n",
       "  </tbody>\n",
       "</table>\n",
       "<p>400 rows × 7 columns</p>\n",
       "</div>"
      ],
      "text/plain": [
       "     GRE Score  TOEFL Score  University Rating  SOP  LOR   CGPA  Research\n",
       "0          337          118                  4  4.5   4.5  9.65         1\n",
       "1          324          107                  4  4.0   4.5  8.87         1\n",
       "2          316          104                  3  3.0   3.5  8.00         1\n",
       "3          322          110                  3  3.5   2.5  8.67         1\n",
       "4          314          103                  2  2.0   3.0  8.21         0\n",
       "..         ...          ...                ...  ...   ...   ...       ...\n",
       "395        324          110                  3  3.5   3.5  9.04         1\n",
       "396        325          107                  3  3.0   3.5  9.11         1\n",
       "397        330          116                  4  5.0   4.5  9.45         1\n",
       "398        312          103                  3  3.5   4.0  8.78         0\n",
       "399        333          117                  4  5.0   4.0  9.66         1\n",
       "\n",
       "[400 rows x 7 columns]"
      ]
     },
     "execution_count": 9,
     "metadata": {},
     "output_type": "execute_result"
    }
   ],
   "source": [
    "X"
   ]
  },
  {
   "cell_type": "code",
   "execution_count": 10,
   "metadata": {
    "colab": {
     "base_uri": "https://localhost:8080/"
    },
    "id": "Cwv0RDgo_fWP",
    "outputId": "3c787c29-e682-4c4b-e27c-bf1516c4758e"
   },
   "outputs": [
    {
     "data": {
      "text/plain": [
       "0      0.92\n",
       "1      0.76\n",
       "2      0.72\n",
       "3      0.80\n",
       "4      0.65\n",
       "       ... \n",
       "395    0.82\n",
       "396    0.84\n",
       "397    0.91\n",
       "398    0.67\n",
       "399    0.95\n",
       "Name: Chance of Admit , Length: 400, dtype: float64"
      ]
     },
     "execution_count": 10,
     "metadata": {},
     "output_type": "execute_result"
    }
   ],
   "source": [
    "y"
   ]
  },
  {
   "cell_type": "code",
   "execution_count": 11,
   "metadata": {
    "id": "WVck3LDB_vtq"
   },
   "outputs": [],
   "source": [
    "from sklearn.model_selection import train_test_split\n",
    "X_train, X_test, y_train, y_test = train_test_split(X, y, test_size=0.2, random_state=1)"
   ]
  },
  {
   "cell_type": "code",
   "execution_count": 12,
   "metadata": {
    "colab": {
     "base_uri": "https://localhost:8080/"
    },
    "id": "FjXr8ElPAPdD",
    "outputId": "7b2e040c-a513-4c8b-84c8-6cd1a28a170d"
   },
   "outputs": [
    {
     "data": {
      "text/plain": [
       "(320, 7)"
      ]
     },
     "execution_count": 12,
     "metadata": {},
     "output_type": "execute_result"
    }
   ],
   "source": [
    "X_train.shape"
   ]
  },
  {
   "cell_type": "code",
   "execution_count": 13,
   "metadata": {
    "colab": {
     "base_uri": "https://localhost:8080/",
     "height": 424
    },
    "id": "i_UXAVKeA0m9",
    "outputId": "5f26f32d-3966-4e11-bf9a-17b6b28eec39"
   },
   "outputs": [
    {
     "data": {
      "text/html": [
       "<div>\n",
       "<style scoped>\n",
       "    .dataframe tbody tr th:only-of-type {\n",
       "        vertical-align: middle;\n",
       "    }\n",
       "\n",
       "    .dataframe tbody tr th {\n",
       "        vertical-align: top;\n",
       "    }\n",
       "\n",
       "    .dataframe thead th {\n",
       "        text-align: right;\n",
       "    }\n",
       "</style>\n",
       "<table border=\"1\" class=\"dataframe\">\n",
       "  <thead>\n",
       "    <tr style=\"text-align: right;\">\n",
       "      <th></th>\n",
       "      <th>GRE Score</th>\n",
       "      <th>TOEFL Score</th>\n",
       "      <th>University Rating</th>\n",
       "      <th>SOP</th>\n",
       "      <th>LOR</th>\n",
       "      <th>CGPA</th>\n",
       "      <th>Research</th>\n",
       "    </tr>\n",
       "  </thead>\n",
       "  <tbody>\n",
       "    <tr>\n",
       "      <th>398</th>\n",
       "      <td>312</td>\n",
       "      <td>103</td>\n",
       "      <td>3</td>\n",
       "      <td>3.5</td>\n",
       "      <td>4.0</td>\n",
       "      <td>8.78</td>\n",
       "      <td>0</td>\n",
       "    </tr>\n",
       "    <tr>\n",
       "      <th>125</th>\n",
       "      <td>300</td>\n",
       "      <td>100</td>\n",
       "      <td>3</td>\n",
       "      <td>2.0</td>\n",
       "      <td>3.0</td>\n",
       "      <td>8.66</td>\n",
       "      <td>1</td>\n",
       "    </tr>\n",
       "    <tr>\n",
       "      <th>328</th>\n",
       "      <td>324</td>\n",
       "      <td>112</td>\n",
       "      <td>4</td>\n",
       "      <td>4.0</td>\n",
       "      <td>3.5</td>\n",
       "      <td>8.77</td>\n",
       "      <td>1</td>\n",
       "    </tr>\n",
       "    <tr>\n",
       "      <th>339</th>\n",
       "      <td>324</td>\n",
       "      <td>107</td>\n",
       "      <td>5</td>\n",
       "      <td>3.5</td>\n",
       "      <td>4.0</td>\n",
       "      <td>8.66</td>\n",
       "      <td>1</td>\n",
       "    </tr>\n",
       "    <tr>\n",
       "      <th>172</th>\n",
       "      <td>322</td>\n",
       "      <td>110</td>\n",
       "      <td>4</td>\n",
       "      <td>4.0</td>\n",
       "      <td>5.0</td>\n",
       "      <td>9.13</td>\n",
       "      <td>1</td>\n",
       "    </tr>\n",
       "    <tr>\n",
       "      <th>...</th>\n",
       "      <td>...</td>\n",
       "      <td>...</td>\n",
       "      <td>...</td>\n",
       "      <td>...</td>\n",
       "      <td>...</td>\n",
       "      <td>...</td>\n",
       "      <td>...</td>\n",
       "    </tr>\n",
       "    <tr>\n",
       "      <th>347</th>\n",
       "      <td>299</td>\n",
       "      <td>94</td>\n",
       "      <td>1</td>\n",
       "      <td>1.0</td>\n",
       "      <td>1.0</td>\n",
       "      <td>7.34</td>\n",
       "      <td>0</td>\n",
       "    </tr>\n",
       "    <tr>\n",
       "      <th>41</th>\n",
       "      <td>316</td>\n",
       "      <td>105</td>\n",
       "      <td>2</td>\n",
       "      <td>2.5</td>\n",
       "      <td>2.5</td>\n",
       "      <td>8.20</td>\n",
       "      <td>1</td>\n",
       "    </tr>\n",
       "    <tr>\n",
       "      <th>180</th>\n",
       "      <td>300</td>\n",
       "      <td>104</td>\n",
       "      <td>3</td>\n",
       "      <td>3.5</td>\n",
       "      <td>3.0</td>\n",
       "      <td>8.16</td>\n",
       "      <td>0</td>\n",
       "    </tr>\n",
       "    <tr>\n",
       "      <th>132</th>\n",
       "      <td>309</td>\n",
       "      <td>105</td>\n",
       "      <td>5</td>\n",
       "      <td>3.5</td>\n",
       "      <td>3.5</td>\n",
       "      <td>8.56</td>\n",
       "      <td>0</td>\n",
       "    </tr>\n",
       "    <tr>\n",
       "      <th>224</th>\n",
       "      <td>305</td>\n",
       "      <td>105</td>\n",
       "      <td>2</td>\n",
       "      <td>3.0</td>\n",
       "      <td>2.0</td>\n",
       "      <td>8.23</td>\n",
       "      <td>0</td>\n",
       "    </tr>\n",
       "  </tbody>\n",
       "</table>\n",
       "<p>80 rows × 7 columns</p>\n",
       "</div>"
      ],
      "text/plain": [
       "     GRE Score  TOEFL Score  University Rating  SOP  LOR   CGPA  Research\n",
       "398        312          103                  3  3.5   4.0  8.78         0\n",
       "125        300          100                  3  2.0   3.0  8.66         1\n",
       "328        324          112                  4  4.0   3.5  8.77         1\n",
       "339        324          107                  5  3.5   4.0  8.66         1\n",
       "172        322          110                  4  4.0   5.0  9.13         1\n",
       "..         ...          ...                ...  ...   ...   ...       ...\n",
       "347        299           94                  1  1.0   1.0  7.34         0\n",
       "41         316          105                  2  2.5   2.5  8.20         1\n",
       "180        300          104                  3  3.5   3.0  8.16         0\n",
       "132        309          105                  5  3.5   3.5  8.56         0\n",
       "224        305          105                  2  3.0   2.0  8.23         0\n",
       "\n",
       "[80 rows x 7 columns]"
      ]
     },
     "execution_count": 13,
     "metadata": {},
     "output_type": "execute_result"
    }
   ],
   "source": [
    "X_test"
   ]
  },
  {
   "cell_type": "code",
   "execution_count": 14,
   "metadata": {
    "colab": {
     "base_uri": "https://localhost:8080/"
    },
    "id": "VcziOe-8A3kk",
    "outputId": "fb5dadf0-41f6-4d02-df1b-009ff2b30c69"
   },
   "outputs": [
    {
     "data": {
      "text/plain": [
       "93     0.44\n",
       "23     0.95\n",
       "299    0.71\n",
       "13     0.62\n",
       "90     0.64\n",
       "       ... \n",
       "255    0.79\n",
       "72     0.93\n",
       "396    0.84\n",
       "235    0.88\n",
       "37     0.58\n",
       "Name: Chance of Admit , Length: 320, dtype: float64"
      ]
     },
     "execution_count": 14,
     "metadata": {},
     "output_type": "execute_result"
    }
   ],
   "source": [
    "y_train"
   ]
  },
  {
   "cell_type": "code",
   "execution_count": 15,
   "metadata": {
    "colab": {
     "base_uri": "https://localhost:8080/"
    },
    "id": "NVYQyLv_ARQb",
    "outputId": "54153620-84a1-4c18-84a4-8461f7a97e85"
   },
   "outputs": [
    {
     "data": {
      "text/plain": [
       "(80,)"
      ]
     },
     "execution_count": 15,
     "metadata": {},
     "output_type": "execute_result"
    }
   ],
   "source": [
    "y_test.shape"
   ]
  },
  {
   "cell_type": "markdown",
   "metadata": {
    "id": "aWexU8GN-jlI"
   },
   "source": [
    "## Min-Max Scaling (data has tight upper and lower bound)"
   ]
  },
  {
   "cell_type": "code",
   "execution_count": 16,
   "metadata": {
    "id": "yLylyQp8-jCl"
   },
   "outputs": [],
   "source": [
    "from sklearn.preprocessing import MinMaxScaler\n",
    "min_max_sc = MinMaxScaler()\n",
    "X_train = min_max_sc.fit_transform(X_train)\n",
    "X_test = min_max_sc.transform(X_test)"
   ]
  },
  {
   "cell_type": "code",
   "execution_count": 17,
   "metadata": {
    "colab": {
     "base_uri": "https://localhost:8080/"
    },
    "id": "Fh8WumN_Arkr",
    "outputId": "a83c2d92-599e-4b9e-f749-775144cf4858"
   },
   "outputs": [
    {
     "data": {
      "text/plain": [
       "array([[0.22      , 0.17857143, 0.25      , ..., 0.42857143, 0.25      ,\n",
       "        1.        ],\n",
       "       [0.88      , 0.96428571, 1.        , ..., 0.85714286, 0.91911765,\n",
       "        1.        ],\n",
       "       [0.3       , 0.71428571, 0.5       , ..., 0.57142857, 0.53308824,\n",
       "        0.        ],\n",
       "       ...,\n",
       "       [0.7       , 0.53571429, 0.5       , ..., 0.57142857, 0.70220588,\n",
       "        1.        ],\n",
       "       [0.72      , 0.67857143, 1.        , ..., 0.71428571, 0.74632353,\n",
       "        1.        ],\n",
       "       [0.2       , 0.46428571, 0.        , ..., 0.14285714, 0.22058824,\n",
       "        0.        ]])"
      ]
     },
     "execution_count": 17,
     "metadata": {},
     "output_type": "execute_result"
    }
   ],
   "source": [
    "X_train"
   ]
  },
  {
   "cell_type": "markdown",
   "metadata": {
    "id": "5bDIGVFOBLue"
   },
   "source": [
    "## Building Neural Network"
   ]
  },
  {
   "cell_type": "code",
   "execution_count": 19,
   "metadata": {
    "id": "48L2G_4DBJtp"
   },
   "outputs": [],
   "source": [
    "import tensorflow\n",
    "from tensorflow import keras\n",
    "from tensorflow.keras import Sequential\n",
    "from tensorflow.keras.layers import Dense, BatchNormalization, Dropout"
   ]
  },
  {
   "cell_type": "code",
   "execution_count": 20,
   "metadata": {
    "id": "tv8rDvNJBaoP"
   },
   "outputs": [],
   "source": [
    "model = Sequential()\n",
    "model.add(Dense(64, activation='relu', input_dim=7, kernel_initializer='he_normal'))\n",
    "model.add(Dropout(0.4))\n",
    "model.add(Dense(32, activation='relu', kernel_initializer='he_normal'))\n",
    "model.add(BatchNormalization())\n",
    "model.add(Dropout(0.4))\n",
    "model.add(Dense(1, activation='linear'))"
   ]
  },
  {
   "cell_type": "code",
   "execution_count": 21,
   "metadata": {
    "colab": {
     "base_uri": "https://localhost:8080/"
    },
    "id": "V1hu-nScChjf",
    "outputId": "45265fbc-f4a7-4178-dfe9-4d40bc2def77"
   },
   "outputs": [
    {
     "name": "stdout",
     "output_type": "stream",
     "text": [
      "Model: \"sequential\"\n",
      "_________________________________________________________________\n",
      " Layer (type)                Output Shape              Param #   \n",
      "=================================================================\n",
      " dense (Dense)               (None, 64)                512       \n",
      "                                                                 \n",
      " dropout (Dropout)           (None, 64)                0         \n",
      "                                                                 \n",
      " dense_1 (Dense)             (None, 32)                2080      \n",
      "                                                                 \n",
      " batch_normalization (BatchN  (None, 32)               128       \n",
      " ormalization)                                                   \n",
      "                                                                 \n",
      " dropout_1 (Dropout)         (None, 32)                0         \n",
      "                                                                 \n",
      " dense_2 (Dense)             (None, 1)                 33        \n",
      "                                                                 \n",
      "=================================================================\n",
      "Total params: 2,753\n",
      "Trainable params: 2,689\n",
      "Non-trainable params: 64\n",
      "_________________________________________________________________\n"
     ]
    }
   ],
   "source": [
    "model.summary()"
   ]
  },
  {
   "cell_type": "code",
   "execution_count": 22,
   "metadata": {
    "id": "UsmrKwW8Ci43"
   },
   "outputs": [],
   "source": [
    "model.compile(loss='mean_squared_error', optimizer='Adam')"
   ]
  },
  {
   "cell_type": "code",
   "execution_count": 23,
   "metadata": {
    "colab": {
     "base_uri": "https://localhost:8080/"
    },
    "id": "odgbtIOGCyef",
    "outputId": "cc44368f-817c-4971-f17c-1abe3337af31"
   },
   "outputs": [
    {
     "name": "stdout",
     "output_type": "stream",
     "text": [
      "Epoch 1/200\n",
      "20/20 [==============================] - 1s 2ms/step - loss: 2.6002\n",
      "Epoch 2/200\n",
      "20/20 [==============================] - 0s 2ms/step - loss: 1.6941\n",
      "Epoch 3/200\n",
      "20/20 [==============================] - 0s 2ms/step - loss: 1.8928\n",
      "Epoch 4/200\n",
      "20/20 [==============================] - 0s 2ms/step - loss: 1.3073\n",
      "Epoch 5/200\n",
      "20/20 [==============================] - 0s 2ms/step - loss: 1.2265\n",
      "Epoch 6/200\n",
      "20/20 [==============================] - 0s 2ms/step - loss: 1.0445\n",
      "Epoch 7/200\n",
      "20/20 [==============================] - 0s 2ms/step - loss: 0.8634\n",
      "Epoch 8/200\n",
      "20/20 [==============================] - 0s 2ms/step - loss: 0.7760\n",
      "Epoch 9/200\n",
      "20/20 [==============================] - 0s 2ms/step - loss: 0.8209\n",
      "Epoch 10/200\n",
      "20/20 [==============================] - 0s 2ms/step - loss: 0.6467\n",
      "Epoch 11/200\n",
      "20/20 [==============================] - 0s 2ms/step - loss: 0.6265\n",
      "Epoch 12/200\n",
      "20/20 [==============================] - 0s 2ms/step - loss: 0.6372\n",
      "Epoch 13/200\n",
      "20/20 [==============================] - 0s 2ms/step - loss: 0.5217\n",
      "Epoch 14/200\n",
      "20/20 [==============================] - 0s 2ms/step - loss: 0.5620\n",
      "Epoch 15/200\n",
      "20/20 [==============================] - 0s 2ms/step - loss: 0.4378\n",
      "Epoch 16/200\n",
      "20/20 [==============================] - 0s 2ms/step - loss: 0.4642\n",
      "Epoch 17/200\n",
      "20/20 [==============================] - 0s 2ms/step - loss: 0.3276\n",
      "Epoch 18/200\n",
      "20/20 [==============================] - 0s 2ms/step - loss: 0.3405\n",
      "Epoch 19/200\n",
      "20/20 [==============================] - 0s 2ms/step - loss: 0.3463\n",
      "Epoch 20/200\n",
      "20/20 [==============================] - 0s 2ms/step - loss: 0.2780\n",
      "Epoch 21/200\n",
      "20/20 [==============================] - 0s 2ms/step - loss: 0.2306\n",
      "Epoch 22/200\n",
      "20/20 [==============================] - 0s 2ms/step - loss: 0.3239\n",
      "Epoch 23/200\n",
      "20/20 [==============================] - 0s 2ms/step - loss: 0.2186\n",
      "Epoch 24/200\n",
      "20/20 [==============================] - 0s 2ms/step - loss: 0.2468\n",
      "Epoch 25/200\n",
      "20/20 [==============================] - 0s 2ms/step - loss: 0.1879\n",
      "Epoch 26/200\n",
      "20/20 [==============================] - 0s 2ms/step - loss: 0.2250\n",
      "Epoch 27/200\n",
      "20/20 [==============================] - 0s 2ms/step - loss: 0.1649\n",
      "Epoch 28/200\n",
      "20/20 [==============================] - 0s 2ms/step - loss: 0.1736\n",
      "Epoch 29/200\n",
      "20/20 [==============================] - 0s 2ms/step - loss: 0.1546\n",
      "Epoch 30/200\n",
      "20/20 [==============================] - 0s 2ms/step - loss: 0.1563\n",
      "Epoch 31/200\n",
      "20/20 [==============================] - 0s 2ms/step - loss: 0.1418\n",
      "Epoch 32/200\n",
      "20/20 [==============================] - 0s 2ms/step - loss: 0.1392\n",
      "Epoch 33/200\n",
      "20/20 [==============================] - 0s 2ms/step - loss: 0.1423\n",
      "Epoch 34/200\n",
      "20/20 [==============================] - 0s 2ms/step - loss: 0.1101\n",
      "Epoch 35/200\n",
      "20/20 [==============================] - 0s 2ms/step - loss: 0.0991\n",
      "Epoch 36/200\n",
      "20/20 [==============================] - 0s 2ms/step - loss: 0.0978\n",
      "Epoch 37/200\n",
      "20/20 [==============================] - 0s 2ms/step - loss: 0.0812\n",
      "Epoch 38/200\n",
      "20/20 [==============================] - 0s 2ms/step - loss: 0.0799\n",
      "Epoch 39/200\n",
      "20/20 [==============================] - 0s 2ms/step - loss: 0.0903\n",
      "Epoch 40/200\n",
      "20/20 [==============================] - 0s 2ms/step - loss: 0.0925\n",
      "Epoch 41/200\n",
      "20/20 [==============================] - 0s 2ms/step - loss: 0.0868\n",
      "Epoch 42/200\n",
      "20/20 [==============================] - 0s 2ms/step - loss: 0.0863\n",
      "Epoch 43/200\n",
      "20/20 [==============================] - 0s 2ms/step - loss: 0.0705\n",
      "Epoch 44/200\n",
      "20/20 [==============================] - 0s 2ms/step - loss: 0.0657\n",
      "Epoch 45/200\n",
      "20/20 [==============================] - 0s 2ms/step - loss: 0.0672\n",
      "Epoch 46/200\n",
      "20/20 [==============================] - 0s 2ms/step - loss: 0.0599\n",
      "Epoch 47/200\n",
      "20/20 [==============================] - 0s 2ms/step - loss: 0.0548\n",
      "Epoch 48/200\n",
      "20/20 [==============================] - 0s 2ms/step - loss: 0.0587\n",
      "Epoch 49/200\n",
      "20/20 [==============================] - 0s 2ms/step - loss: 0.0602\n",
      "Epoch 50/200\n",
      "20/20 [==============================] - 0s 2ms/step - loss: 0.0542\n",
      "Epoch 51/200\n",
      "20/20 [==============================] - 0s 2ms/step - loss: 0.0455\n",
      "Epoch 52/200\n",
      "20/20 [==============================] - 0s 2ms/step - loss: 0.0438\n",
      "Epoch 53/200\n",
      "20/20 [==============================] - 0s 2ms/step - loss: 0.0407\n",
      "Epoch 54/200\n",
      "20/20 [==============================] - 0s 2ms/step - loss: 0.0363\n",
      "Epoch 55/200\n",
      "20/20 [==============================] - 0s 2ms/step - loss: 0.0407\n",
      "Epoch 56/200\n",
      "20/20 [==============================] - 0s 2ms/step - loss: 0.0357\n",
      "Epoch 57/200\n",
      "20/20 [==============================] - 0s 2ms/step - loss: 0.0414\n",
      "Epoch 58/200\n",
      "20/20 [==============================] - 0s 2ms/step - loss: 0.0474\n",
      "Epoch 59/200\n",
      "20/20 [==============================] - 0s 2ms/step - loss: 0.0331\n",
      "Epoch 60/200\n",
      "20/20 [==============================] - 0s 2ms/step - loss: 0.0309\n",
      "Epoch 61/200\n",
      "20/20 [==============================] - 0s 2ms/step - loss: 0.0301\n",
      "Epoch 62/200\n",
      "20/20 [==============================] - 0s 2ms/step - loss: 0.0255\n",
      "Epoch 63/200\n",
      "20/20 [==============================] - 0s 2ms/step - loss: 0.0315\n",
      "Epoch 64/200\n",
      "20/20 [==============================] - 0s 2ms/step - loss: 0.0258\n",
      "Epoch 65/200\n",
      "20/20 [==============================] - 0s 2ms/step - loss: 0.0276\n",
      "Epoch 66/200\n",
      "20/20 [==============================] - 0s 2ms/step - loss: 0.0276\n",
      "Epoch 67/200\n",
      "20/20 [==============================] - 0s 2ms/step - loss: 0.0312\n",
      "Epoch 68/200\n",
      "20/20 [==============================] - 0s 2ms/step - loss: 0.0254\n",
      "Epoch 69/200\n",
      "20/20 [==============================] - 0s 2ms/step - loss: 0.0231\n",
      "Epoch 70/200\n",
      "20/20 [==============================] - 0s 2ms/step - loss: 0.0211\n",
      "Epoch 71/200\n",
      "20/20 [==============================] - 0s 2ms/step - loss: 0.0238\n",
      "Epoch 72/200\n",
      "20/20 [==============================] - 0s 2ms/step - loss: 0.0234\n",
      "Epoch 73/200\n",
      "20/20 [==============================] - 0s 2ms/step - loss: 0.0228\n",
      "Epoch 74/200\n",
      "20/20 [==============================] - 0s 2ms/step - loss: 0.0236\n",
      "Epoch 75/200\n",
      "20/20 [==============================] - 0s 2ms/step - loss: 0.0198\n",
      "Epoch 76/200\n",
      "20/20 [==============================] - 0s 2ms/step - loss: 0.0172\n",
      "Epoch 77/200\n",
      "20/20 [==============================] - 0s 2ms/step - loss: 0.0183\n",
      "Epoch 78/200\n",
      "20/20 [==============================] - 0s 2ms/step - loss: 0.0217\n",
      "Epoch 79/200\n",
      "20/20 [==============================] - 0s 2ms/step - loss: 0.0215\n",
      "Epoch 80/200\n",
      "20/20 [==============================] - 0s 2ms/step - loss: 0.0214\n",
      "Epoch 81/200\n",
      "20/20 [==============================] - 0s 2ms/step - loss: 0.0179\n",
      "Epoch 82/200\n",
      "20/20 [==============================] - 0s 2ms/step - loss: 0.0175\n",
      "Epoch 83/200\n",
      "20/20 [==============================] - 0s 2ms/step - loss: 0.0209\n",
      "Epoch 84/200\n",
      "20/20 [==============================] - 0s 2ms/step - loss: 0.0164\n",
      "Epoch 85/200\n",
      "20/20 [==============================] - 0s 2ms/step - loss: 0.0170\n",
      "Epoch 86/200\n",
      "20/20 [==============================] - 0s 2ms/step - loss: 0.0235\n",
      "Epoch 87/200\n",
      "20/20 [==============================] - 0s 2ms/step - loss: 0.0156\n",
      "Epoch 88/200\n",
      "20/20 [==============================] - 0s 2ms/step - loss: 0.0189\n",
      "Epoch 89/200\n",
      "20/20 [==============================] - 0s 2ms/step - loss: 0.0151\n",
      "Epoch 90/200\n",
      "20/20 [==============================] - 0s 2ms/step - loss: 0.0146\n",
      "Epoch 91/200\n",
      "20/20 [==============================] - 0s 2ms/step - loss: 0.0154\n",
      "Epoch 92/200\n",
      "20/20 [==============================] - 0s 2ms/step - loss: 0.0172\n",
      "Epoch 93/200\n",
      "20/20 [==============================] - 0s 2ms/step - loss: 0.0174\n",
      "Epoch 94/200\n",
      "20/20 [==============================] - 0s 2ms/step - loss: 0.0143\n",
      "Epoch 95/200\n",
      "20/20 [==============================] - 0s 2ms/step - loss: 0.0155\n",
      "Epoch 96/200\n",
      "20/20 [==============================] - 0s 2ms/step - loss: 0.0225\n",
      "Epoch 97/200\n",
      "20/20 [==============================] - 0s 2ms/step - loss: 0.0138\n",
      "Epoch 98/200\n",
      "20/20 [==============================] - 0s 2ms/step - loss: 0.0148\n",
      "Epoch 99/200\n",
      "20/20 [==============================] - 0s 2ms/step - loss: 0.0133\n",
      "Epoch 100/200\n",
      "20/20 [==============================] - 0s 2ms/step - loss: 0.0144\n",
      "Epoch 101/200\n",
      "20/20 [==============================] - 0s 2ms/step - loss: 0.0138\n",
      "Epoch 102/200\n",
      "20/20 [==============================] - 0s 2ms/step - loss: 0.0145\n",
      "Epoch 103/200\n",
      "20/20 [==============================] - 0s 2ms/step - loss: 0.0144\n",
      "Epoch 104/200\n",
      "20/20 [==============================] - 0s 2ms/step - loss: 0.0151\n",
      "Epoch 105/200\n",
      "20/20 [==============================] - 0s 2ms/step - loss: 0.0159\n",
      "Epoch 106/200\n",
      "20/20 [==============================] - 0s 2ms/step - loss: 0.0138\n",
      "Epoch 107/200\n",
      "20/20 [==============================] - 0s 2ms/step - loss: 0.0126\n",
      "Epoch 108/200\n",
      "20/20 [==============================] - 0s 2ms/step - loss: 0.0146\n",
      "Epoch 109/200\n",
      "20/20 [==============================] - 0s 2ms/step - loss: 0.0118\n",
      "Epoch 110/200\n",
      "20/20 [==============================] - 0s 2ms/step - loss: 0.0126\n",
      "Epoch 111/200\n",
      "20/20 [==============================] - 0s 2ms/step - loss: 0.0125\n",
      "Epoch 112/200\n",
      "20/20 [==============================] - 0s 2ms/step - loss: 0.0129\n",
      "Epoch 113/200\n",
      "20/20 [==============================] - 0s 2ms/step - loss: 0.0151\n",
      "Epoch 114/200\n",
      "20/20 [==============================] - 0s 2ms/step - loss: 0.0124\n",
      "Epoch 115/200\n",
      "20/20 [==============================] - 0s 2ms/step - loss: 0.0128\n",
      "Epoch 116/200\n",
      "20/20 [==============================] - 0s 2ms/step - loss: 0.0133\n",
      "Epoch 117/200\n",
      "20/20 [==============================] - 0s 2ms/step - loss: 0.0130\n",
      "Epoch 118/200\n",
      "20/20 [==============================] - 0s 2ms/step - loss: 0.0120\n",
      "Epoch 119/200\n",
      "20/20 [==============================] - 0s 2ms/step - loss: 0.0133\n",
      "Epoch 120/200\n",
      "20/20 [==============================] - 0s 2ms/step - loss: 0.0125\n",
      "Epoch 121/200\n",
      "20/20 [==============================] - 0s 2ms/step - loss: 0.0130\n",
      "Epoch 122/200\n",
      "20/20 [==============================] - 0s 2ms/step - loss: 0.0111\n",
      "Epoch 123/200\n",
      "20/20 [==============================] - 0s 2ms/step - loss: 0.0139\n",
      "Epoch 124/200\n",
      "20/20 [==============================] - 0s 2ms/step - loss: 0.0114\n",
      "Epoch 125/200\n",
      "20/20 [==============================] - 0s 2ms/step - loss: 0.0147\n",
      "Epoch 126/200\n",
      "20/20 [==============================] - 0s 2ms/step - loss: 0.0118\n",
      "Epoch 127/200\n",
      "20/20 [==============================] - 0s 2ms/step - loss: 0.0110\n",
      "Epoch 128/200\n",
      "20/20 [==============================] - 0s 2ms/step - loss: 0.0101\n",
      "Epoch 129/200\n",
      "20/20 [==============================] - 0s 2ms/step - loss: 0.0115\n",
      "Epoch 130/200\n",
      "20/20 [==============================] - 0s 2ms/step - loss: 0.0120\n",
      "Epoch 131/200\n",
      "20/20 [==============================] - 0s 2ms/step - loss: 0.0118\n",
      "Epoch 132/200\n",
      "20/20 [==============================] - 0s 2ms/step - loss: 0.0133\n",
      "Epoch 133/200\n",
      "20/20 [==============================] - 0s 2ms/step - loss: 0.0108\n",
      "Epoch 134/200\n",
      "20/20 [==============================] - 0s 2ms/step - loss: 0.0104\n",
      "Epoch 135/200\n",
      "20/20 [==============================] - 0s 2ms/step - loss: 0.0104\n",
      "Epoch 136/200\n",
      "20/20 [==============================] - 0s 2ms/step - loss: 0.0130\n",
      "Epoch 137/200\n",
      "20/20 [==============================] - 0s 2ms/step - loss: 0.0120\n",
      "Epoch 138/200\n",
      "20/20 [==============================] - 0s 2ms/step - loss: 0.0109\n",
      "Epoch 139/200\n",
      "20/20 [==============================] - 0s 2ms/step - loss: 0.0116\n",
      "Epoch 140/200\n",
      "20/20 [==============================] - 0s 2ms/step - loss: 0.0150\n",
      "Epoch 141/200\n",
      "20/20 [==============================] - 0s 2ms/step - loss: 0.0103\n",
      "Epoch 142/200\n",
      "20/20 [==============================] - 0s 2ms/step - loss: 0.0109\n",
      "Epoch 143/200\n",
      "20/20 [==============================] - 0s 2ms/step - loss: 0.0108\n",
      "Epoch 144/200\n",
      "20/20 [==============================] - 0s 2ms/step - loss: 0.0100\n",
      "Epoch 145/200\n",
      "20/20 [==============================] - 0s 2ms/step - loss: 0.0116\n",
      "Epoch 146/200\n",
      "20/20 [==============================] - 0s 2ms/step - loss: 0.0111\n",
      "Epoch 147/200\n",
      "20/20 [==============================] - 0s 2ms/step - loss: 0.0117\n",
      "Epoch 148/200\n",
      "20/20 [==============================] - 0s 2ms/step - loss: 0.0115\n",
      "Epoch 149/200\n",
      "20/20 [==============================] - 0s 2ms/step - loss: 0.0119\n",
      "Epoch 150/200\n",
      "20/20 [==============================] - 0s 2ms/step - loss: 0.0105\n",
      "Epoch 151/200\n",
      "20/20 [==============================] - 0s 2ms/step - loss: 0.0111\n",
      "Epoch 152/200\n",
      "20/20 [==============================] - 0s 2ms/step - loss: 0.0109\n",
      "Epoch 153/200\n",
      "20/20 [==============================] - 0s 2ms/step - loss: 0.0102\n",
      "Epoch 154/200\n",
      "20/20 [==============================] - 0s 2ms/step - loss: 0.0101\n",
      "Epoch 155/200\n",
      "20/20 [==============================] - 0s 2ms/step - loss: 0.0094\n",
      "Epoch 156/200\n",
      "20/20 [==============================] - 0s 2ms/step - loss: 0.0101\n",
      "Epoch 157/200\n",
      "20/20 [==============================] - 0s 2ms/step - loss: 0.0095\n",
      "Epoch 158/200\n",
      "20/20 [==============================] - 0s 2ms/step - loss: 0.0107\n",
      "Epoch 159/200\n",
      "20/20 [==============================] - 0s 2ms/step - loss: 0.0109\n",
      "Epoch 160/200\n",
      "20/20 [==============================] - 0s 2ms/step - loss: 0.0101\n",
      "Epoch 161/200\n",
      "20/20 [==============================] - 0s 2ms/step - loss: 0.0100\n",
      "Epoch 162/200\n",
      "20/20 [==============================] - 0s 2ms/step - loss: 0.0109\n",
      "Epoch 163/200\n",
      "20/20 [==============================] - 0s 2ms/step - loss: 0.0112\n",
      "Epoch 164/200\n",
      "20/20 [==============================] - 0s 2ms/step - loss: 0.0101\n",
      "Epoch 165/200\n",
      "20/20 [==============================] - 0s 2ms/step - loss: 0.0112\n",
      "Epoch 166/200\n",
      "20/20 [==============================] - 0s 2ms/step - loss: 0.0095\n",
      "Epoch 167/200\n",
      "20/20 [==============================] - 0s 2ms/step - loss: 0.0103\n",
      "Epoch 168/200\n",
      "20/20 [==============================] - 0s 2ms/step - loss: 0.0098\n",
      "Epoch 169/200\n",
      "20/20 [==============================] - 0s 2ms/step - loss: 0.0121\n",
      "Epoch 170/200\n",
      "20/20 [==============================] - 0s 2ms/step - loss: 0.0102\n",
      "Epoch 171/200\n",
      "20/20 [==============================] - 0s 2ms/step - loss: 0.0104\n",
      "Epoch 172/200\n",
      "20/20 [==============================] - 0s 2ms/step - loss: 0.0087\n",
      "Epoch 173/200\n",
      "20/20 [==============================] - 0s 2ms/step - loss: 0.0103\n",
      "Epoch 174/200\n",
      "20/20 [==============================] - 0s 2ms/step - loss: 0.0105\n",
      "Epoch 175/200\n",
      "20/20 [==============================] - 0s 2ms/step - loss: 0.0101\n",
      "Epoch 176/200\n",
      "20/20 [==============================] - 0s 2ms/step - loss: 0.0101\n",
      "Epoch 177/200\n",
      "20/20 [==============================] - 0s 2ms/step - loss: 0.0102\n",
      "Epoch 178/200\n",
      "20/20 [==============================] - 0s 2ms/step - loss: 0.0100\n",
      "Epoch 179/200\n",
      "20/20 [==============================] - 0s 2ms/step - loss: 0.0089\n",
      "Epoch 180/200\n",
      "20/20 [==============================] - 0s 2ms/step - loss: 0.0095\n",
      "Epoch 181/200\n",
      "20/20 [==============================] - 0s 2ms/step - loss: 0.0114\n",
      "Epoch 182/200\n",
      "20/20 [==============================] - 0s 2ms/step - loss: 0.0098\n",
      "Epoch 183/200\n",
      "20/20 [==============================] - 0s 2ms/step - loss: 0.0094\n",
      "Epoch 184/200\n",
      "20/20 [==============================] - 0s 2ms/step - loss: 0.0089\n",
      "Epoch 185/200\n",
      "20/20 [==============================] - 0s 2ms/step - loss: 0.0107\n",
      "Epoch 186/200\n",
      "20/20 [==============================] - 0s 2ms/step - loss: 0.0091\n",
      "Epoch 187/200\n",
      "20/20 [==============================] - 0s 2ms/step - loss: 0.0091\n",
      "Epoch 188/200\n",
      "20/20 [==============================] - 0s 2ms/step - loss: 0.0101\n",
      "Epoch 189/200\n",
      "20/20 [==============================] - 0s 2ms/step - loss: 0.0103\n",
      "Epoch 190/200\n",
      "20/20 [==============================] - 0s 2ms/step - loss: 0.0088\n",
      "Epoch 191/200\n",
      "20/20 [==============================] - 0s 2ms/step - loss: 0.0085\n",
      "Epoch 192/200\n",
      "20/20 [==============================] - 0s 2ms/step - loss: 0.0095\n",
      "Epoch 193/200\n",
      "20/20 [==============================] - 0s 2ms/step - loss: 0.0093\n",
      "Epoch 194/200\n",
      "20/20 [==============================] - 0s 2ms/step - loss: 0.0092\n",
      "Epoch 195/200\n",
      "20/20 [==============================] - 0s 2ms/step - loss: 0.0090\n",
      "Epoch 196/200\n",
      "20/20 [==============================] - 0s 2ms/step - loss: 0.0090\n",
      "Epoch 197/200\n",
      "20/20 [==============================] - 0s 2ms/step - loss: 0.0095\n",
      "Epoch 198/200\n",
      "20/20 [==============================] - 0s 2ms/step - loss: 0.0094\n",
      "Epoch 199/200\n",
      "20/20 [==============================] - 0s 2ms/step - loss: 0.0102\n",
      "Epoch 200/200\n",
      "20/20 [==============================] - 0s 2ms/step - loss: 0.0097\n"
     ]
    }
   ],
   "source": [
    "history = model.fit(X_train, y_train, epochs=200, batch_size=16)"
   ]
  },
  {
   "cell_type": "code",
   "execution_count": 24,
   "metadata": {
    "colab": {
     "base_uri": "https://localhost:8080/"
    },
    "id": "dhdW9uzmD-ph",
    "outputId": "0609843d-1d69-4ed7-9d03-eba21f76b809"
   },
   "outputs": [
    {
     "name": "stdout",
     "output_type": "stream",
     "text": [
      "3/3 [==============================] - 0s 3ms/step\n"
     ]
    }
   ],
   "source": [
    "y_pred = model.predict(X_test)"
   ]
  },
  {
   "cell_type": "code",
   "execution_count": 25,
   "metadata": {
    "colab": {
     "base_uri": "https://localhost:8080/"
    },
    "id": "UetQParyEcv7",
    "outputId": "384dc93c-4cda-441c-85f9-15fe27ac683e"
   },
   "outputs": [
    {
     "name": "stdout",
     "output_type": "stream",
     "text": [
      "R2 score : 0.6827198955208529\n",
      "MSE score : 0.007337875786334945\n"
     ]
    }
   ],
   "source": [
    "from sklearn.metrics import mean_squared_error, r2_score\n",
    "print(f'R2 score : {r2_score(y_test, y_pred)}')\n",
    "print(f'MSE score : {mean_squared_error(y_test, y_pred)}')"
   ]
  },
  {
   "cell_type": "markdown",
   "metadata": {
    "id": "JVwxg32qGd6_"
   },
   "source": [
    "## Visualizing Loss and Accuracy over each epoch"
   ]
  },
  {
   "cell_type": "code",
   "execution_count": 26,
   "metadata": {
    "colab": {
     "base_uri": "https://localhost:8080/",
     "height": 447
    },
    "id": "C5aq4Np6HKmM",
    "outputId": "8e3fa15f-629f-4f60-c9ed-64f764e788ff"
   },
   "outputs": [
    {
     "data": {
      "text/plain": [
       "[<matplotlib.lines.Line2D at 0x17efd97c1c0>]"
      ]
     },
     "execution_count": 26,
     "metadata": {},
     "output_type": "execute_result"
    },
    {
     "data": {
      "image/png": "[encoded data removed]",
      "text/plain": [
       "<Figure size 640x480 with 1 Axes>"
      ]
     },
     "metadata": {},
     "output_type": "display_data"
    }
   ],
   "source": [
    "plt.plot(history.history['loss'])"
   ]
  },
  {
   "cell_type": "markdown",
   "metadata": {
    "id": "8hjLdqdxHrPx"
   },
   "source": [
    "## Save and Deploy Neural Network Model"
   ]
  },
  {
   "cell_type": "code",
   "execution_count": 27,
   "metadata": {
    "id": "7EGRG7w2HpBx"
   },
   "outputs": [],
   "source": [
    "model.save('GAP_model.h5')"
   ]
  },
  {
   "cell_type": "code",
   "execution_count": null,
   "metadata": {},
   "outputs": [],
   "source": []
  }
 ],
 "metadata": {
  "colab": {
   "provenance": []
  },
  "kernelspec": {
   "display_name": "Python 3 (ipykernel)",
   "language": "python",
   "name": "python3"
  },
  "language_info": {
   "codemirror_mode": {
    "name": "ipython",
    "version": 3
   },
   "file_extension": ".py",
   "mimetype": "text/x-python",
   "name": "python",
   "nbconvert_exporter": "python",
   "pygments_lexer": "ipython3",
   "version": "3.10.9"
  }
 },
 "nbformat": 4,
 "nbformat_minor": 4
}
